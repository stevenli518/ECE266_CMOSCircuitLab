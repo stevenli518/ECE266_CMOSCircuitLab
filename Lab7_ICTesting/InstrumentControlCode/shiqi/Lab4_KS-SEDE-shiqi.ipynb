{
 "cells": [
  {
   "cell_type": "markdown",
   "metadata": {},
   "source": [
    "Lab4_Instrument_Control  \n",
    "Author: Chengming Li  \n",
    "All rights reserved  "
   ]
  },
  {
   "cell_type": "code",
   "execution_count": 1,
   "metadata": {},
   "outputs": [],
   "source": [
    "import pyvisa\n",
    "import numpy as np\n",
    "from math import log10\n",
    "from pathlib import Path\n",
    "import shutil\n",
    "from time import sleep\n",
    "import matplotlib.pyplot as plt\n",
    "import KS33600A_Control as FG\n",
    "import KSE36311A_Control as PS\n",
    "import KSMSOX3104G as OSC\n"
   ]
  },
  {
   "cell_type": "code",
   "execution_count": 2,
   "metadata": {},
   "outputs": [
    {
     "name": "stdout",
     "output_type": "stream",
     "text": [
      "('USB0::0x0957::0x5707::MY59004729::0::INSTR', 'USB0::0x0957::0x5707::MY59004869::0::INSTR', 'USB0::0x2A8D::0x1202::MY61005967::0::INSTR', 'USB0::0x2A8D::0x1770::MY63420113::0::INSTR', 'USB0::0x2A8D::0x1770::MY63420231::0::INSTR')\n"
     ]
    }
   ],
   "source": [
    "\"\"\" List all instruments\"\"\"\n",
    "rm = pyvisa.ResourceManager()\n",
    "instruments = rm.list_resources()\n",
    "print(instruments)"
   ]
  },
  {
   "cell_type": "markdown",
   "metadata": {},
   "source": [
    "Please follow the following steps for setup  \n",
    "1. Power Supply Setup  \n",
    "2. Function Generator Setup  \n",
    "3. Oscilloscope Setup (Not done yet)  \n",
    "4. Power Supply and Function Generator ON\n",
    "5. !!! Sweep the measurement !!! (Not done yet)\n",
    "6. Turn off Power Supply and Function Generator\n",
    "7. Shut down all the remote control connection"
   ]
  },
  {
   "cell_type": "code",
   "execution_count": 11,
   "metadata": {},
   "outputs": [
    {
     "name": "stdout",
     "output_type": "stream",
     "text": [
      "Keysight Technologies,E36313A,MY61005967,2.1.3-1.0.4-1.14\n",
      "\n"
     ]
    }
   ],
   "source": [
    "\"\"\" \n",
    "    1. Power Supply Control\n",
    "\"\"\"\n",
    "PS_INSTRUMENT_ID = 'USB0::0x2A8D::0x1202::MY61005967::0::INSTR'\n",
    "ps = PS.PowerSupply_Connect(PS_INSTRUMENT_ID)\n",
    "\n",
    "# Set channel 1 to 5 V, 1A\n",
    "PS.Voltage_Setup(ps,1,5)\n",
    "PS.Current_Setup(ps,1,1)\n",
    "\n",
    "# Set channel 2 to 5 V, 1A\n",
    "PS.Voltage_Setup(ps,2,5)\n",
    "PS.Current_Setup(ps,2,1)\n",
    "\n",
    "# Set channel 2 to 5 V, 1A\n",
    "PS.Voltage_Setup(ps,3,2.5)\n",
    "PS.Current_Setup(ps,3,1)"
   ]
  },
  {
   "cell_type": "code",
   "execution_count": 3,
   "metadata": {},
   "outputs": [
    {
     "name": "stdout",
     "output_type": "stream",
     "text": [
      "Agilent Technologies,33622A,MY59004729,A.02.03-3.15-03-64-02\n",
      "\n"
     ]
    }
   ],
   "source": [
    "\"\"\" \n",
    "    2. FunctionGenerator Control \n",
    "\"\"\"\n",
    "start_freq = 1e3\n",
    "start = log10(start_freq )\n",
    "stop_freq = 100e3\n",
    "stop = log10(stop_freq )\n",
    "frequencies_SNR = np.logspace(start, stop, num=50, endpoint=True, base=10.0, dtype=None, axis=0)\n",
    "FG_INSTRUMENT_ID = 'USB0::0x0957::0x5707::MY59004729::0::INSTR'\n",
    "fg = FG.FuncGenConnect(FG_INSTRUMENT_ID)\n",
    "\n",
    "\"\"\"\n",
    "    Intended use channel 1 as SIN\n",
    "    Set channel 1 to SIN, unit Vpp, 50 Ohm, freq, amp, and offset\n",
    "    Intended use channel 2 as INV_SIN\n",
    "    Set channel 1 to SIN, unit Vpp, 50 Ohm, freq, amp, and offset\n",
    "\"\"\"\n",
    "FG.UnitVpp_setup(fg,1)\n",
    "FG.Load__setup(fg,1,1)\n",
    "freq = 1e3\n",
    "amp = 1\n",
    "offset = 0.5\n",
    "FG.Sin_setup(fg,1,freq,amp,offset)\n",
    "\n",
    "FG.UnitVpp_setup(fg,2)\n",
    "FG.Load__setup(fg,2,1)\n",
    "\n",
    "clk_freq = 1e6\n",
    "clk_amp = 2.5\n",
    "clk_offset = 1.25\n",
    "clk_duty = 50\n",
    "FG.PWM_setup(fg,2,clk_freq,clk_amp,clk_offset,clk_duty)\n",
    "FG.Polarity_invert(fg,2,0)\n",
    "# FG.Sync_phase(fg)\n",
    "\n",
    "\n",
    "# for freq_var in frequencies_SNR:\n",
    "#     freq = freq_var\n",
    "#     amp = 1\n",
    "#     offset = 0.5\n",
    "#     FG.Sin_setup(fg,1,freq,amp,offset)\n",
    "#     FG.Sin_setup(fg,2,freq,amp,offset)\n",
    "#     FG.Polarity_invert(fg,2,1)\n",
    "#     FG.Sync_phase(fg)\n",
    "#     print(\"frequency @\" + str(freq))\n",
    "#     sleep(5)\n",
    "\n",
    "# FG.output_OFF(fg,1)\n",
    "# FG.output_OFF(fg,2)\n",
    "fg.close()"
   ]
  },
  {
   "cell_type": "code",
   "execution_count": null,
   "metadata": {},
   "outputs": [
    {
     "name": "stdout",
     "output_type": "stream",
     "text": [
      "KEYSIGHT TECHNOLOGIES,MSO-X 3104G,MY63420113,07.60.2023080430\n",
      "\n",
      "Data saved to C:\\Users\\steve\\OneDrive\\Documents\\GitHub\\ECE266_CMOSCircuitLab\\Lab7_ICTesting\\MatLabCode\\ADC_Data\\11-24-Python-Pull-Data\\SIN_2000Hz_950mV---CLK_1MHz_50%.csv\n"
     ]
    }
   ],
   "source": [
    "\"\"\" \n",
    "    3. Oscilloscope Control \n",
    "\"\"\"\n",
    "import KSMSOX3104G as OSC\n",
    "import csv\n",
    "import os\n",
    "OSC_INSTRUMENT_ID = 'USB0::0x2A8D::0x1770::MY63420113::0::INSTR'\n",
    "osc = OSC.Oscilloscope_Connect(OSC_INSTRUMENT_ID)\n",
    "OSC.Oscilloscope_SetBUS(osc)\n",
    "OSC.Oscilloscope_RUN(osc)\n",
    "\n",
    "\n",
    "OSC.Oscilloscope_Stop(osc)\n",
    "################## Save Data from Oscilloscope\n",
    "[preamble, data] = OSC.Save_waveform(osc,\"BUS1\",)\n",
    "\n",
    "combined_string = ''.join(data)\n",
    "\n",
    "# Step 2: Split the string by the commas\n",
    "rows = combined_string.split(',')\n",
    "new_data = []\n",
    "i = 0\n",
    "for raw in rows[1:]:\n",
    "    new_data.append(int(raw, 16))\n",
    "    i = i+1\n",
    "\n",
    "################## Create the foler\n",
    "folder_path = r\"C:\\Users\\steve\\OneDrive\\Documents\\GitHub\\ECE266_CMOSCircuitLab\\Lab7_ICTesting\\MatLabCode\\ADC_Data\"  # Change to your desired path\n",
    "### change folder name as needed\n",
    "folder_name = \"11-24-Python-Pull-Data\"\n",
    "file_path = os.path.join(folder_path, folder_name)\n",
    "os.makedirs(file_path, exist_ok=True)\n",
    "\n",
    "################## Create the file\n",
    "# Sine Input parameters\n",
    "sin_freq = 2e3\n",
    "sin_amp = 950\n",
    "\n",
    "# CLK Parameters\n",
    "clk_freq = 1e6\n",
    "clk_duty = 50\n",
    "\n",
    "filename = \"SIN_\"+str(int(sin_freq))+\"Hz_\" + str(sin_amp)+\"mV---CLK_\"+ str(int(clk_freq/1e6)) + \"MHz_\" +str(int(clk_duty))+\"%.csv\"\n",
    "file_path = os.path.join(file_path, filename)\n",
    "\n",
    "\n",
    "\n",
    "with open(file_path, mode='w', newline='') as file:\n",
    "    writer = csv.writer(file)\n",
    "    # Write each integer as a row\n",
    "    for number in new_data:\n",
    "        writer.writerow([number]) \n",
    "\n",
    "print(f\"Data saved to {file_path}\")\n",
    "\n",
    "OSC.Oscilloscope_RUN(osc)\n",
    "\n",
    "osc.close()"
   ]
  },
  {
   "cell_type": "code",
   "execution_count": null,
   "metadata": {},
   "outputs": [],
   "source": [
    "\"\"\" \n",
    "    4. Please double check Your Power Supply and Function Generator and to match what you expect to see\n",
    "\"\"\"\n",
    "# Power Supply channel 1,2,3 ON\n",
    "PS.Output_ON(ps,1)\n",
    "PS.Output_ON(ps,2)\n",
    "PS.Output_ON(ps,3)\n",
    "\n",
    "# Function Generator channel 1 and 2 ON\n",
    "FG.output_ON(fg,1)\n",
    "FG.output_ON(fg,2)\n"
   ]
  },
  {
   "cell_type": "code",
   "execution_count": 10,
   "metadata": {},
   "outputs": [
    {
     "name": "stdout",
     "output_type": "stream",
     "text": [
      "Agilent Technologies,33622A,MY59004869,A.02.03-3.15-03-64-02\n",
      "\n",
      "KEYSIGHT TECHNOLOGIES,MSO-X 3104G,MY63420231,07.60.2023080430\n",
      "\n"
     ]
    }
   ],
   "source": [
    "\"\"\" \n",
    "    5. Sweep the Parameters ---- Prep Stage\n",
    "\"\"\"\n",
    "import KSMSOX3104G as OSC\n",
    "import csv\n",
    "import os\n",
    "start_freq = 1\n",
    "start = log10(start_freq )\n",
    "stop_freq = 100e3\n",
    "stop = log10(stop_freq )\n",
    "frequencies_SNR = np.logspace(start, stop, num=50, endpoint=True, base=10.0, dtype=None, axis=0)\n",
    "\n",
    "shiqi =  'USB0::0x0957::0x5707::MY59004869::0::INSTR'\n",
    "fg = FG.FuncGenConnect(shiqi)\n",
    "# FG_INSTRUMENT_ID = 'USB0::0x0957::0x5707::MY59004729::0::INSTR'\n",
    "# fg = FG.FuncGenConnect(FG_INSTRUMENT_ID)\n",
    "\n",
    "shiqi = 'USB0::0x2A8D::0x1770::MY63420231::0::INSTR'\n",
    "osc = OSC.Oscilloscope_Connect(shiqi)\n",
    "# OSC_INSTRUMENT_ID = 'USB0::0x2A8D::0x1770::MY63420113::0::INSTR'\n",
    "# osc = OSC.Oscilloscope_Connect(OSC_INSTRUMENT_ID)\n",
    "\n",
    "# PS_INSTRUMENT_ID = 'USB0::0x2A8D::0x1202::MY61005967::0::INSTR'\n",
    "# ps = PS.PowerSupply_Connect(PS_INSTRUMENT_ID)\n",
    "\n",
    "\n",
    "\"\"\"\n",
    "    Setup the PowerSupply\n",
    "\"\"\"\n",
    "# PS.Voltage_Setup(ps,1,5)\n",
    "# PS.Current_Setup(ps,1,1)\n",
    "\n",
    "# # Set channel 2 to 5 V, 1A\n",
    "# PS.Voltage_Setup(ps,2,5)\n",
    "# PS.Current_Setup(ps,2,1)\n",
    "\n",
    "# # Set channel 2 to 5 V, 1A\n",
    "# PS.Voltage_Setup(ps,3,2.5)\n",
    "# PS.Current_Setup(ps,3,1)\n",
    "\n",
    "# PS.Output_OFF(ps,1)\n",
    "# PS.Output_OFF(ps,2)\n",
    "# PS.Output_OFF(ps,3)\n",
    "\n",
    "\n",
    "\"\"\"\n",
    "    Setup the Oscilloscope\n",
    "\"\"\"\n",
    "\n",
    "OSC.Oscilloscope_SetBUS(osc)\n",
    "OSC.Oscilloscope_RUN(osc)\n",
    "OSC.Oscilloscope_Trigger(osc)\n",
    "OSC.Oscilloscope_TimeBase(osc, 1/1e3)\n",
    "\n",
    "\"\"\"\n",
    "    Setup the FunctionGenerator\n",
    "\"\"\"\n",
    "FG.UnitVpp_setup(fg,1)\n",
    "FG.Load__setup(fg,1,1)\n",
    "sin_freq = 1e3\n",
    "sin_amp = 1\n",
    "sin_offset = 0.5\n",
    "FG.Sin_setup(fg,1,sin_freq,sin_amp,sin_offset)\n",
    "\n",
    "FG.UnitVpp_setup(fg,2)\n",
    "FG.Load__setup(fg,2,0)\n",
    "\n",
    "clk_freq = 1e6\n",
    "clk_amp = 2.5\n",
    "clk_offset = 1.25\n",
    "clk_duty = 50\n",
    "FG.PWM_setup(fg,2,clk_freq,clk_amp,clk_offset,clk_duty)\n",
    "FG.Polarity_invert(fg,2,0)\n",
    "\n",
    "FG.output_OFF(fg,1)\n",
    "FG.output_OFF(fg,2)\n",
    "# PS.Output_ON(ps,1)\n",
    "# PS.Output_ON(ps,2)\n",
    "OSC.Oscilloscope_WGen_Square_OFF(osc)"
   ]
  },
  {
   "cell_type": "code",
   "execution_count": 11,
   "metadata": {},
   "outputs": [
    {
     "name": "stdout",
     "output_type": "stream",
     "text": [
      "frequency @1.0\n",
      "Data saved to C:\\Users\\steve\\OneDrive\\Documents\\GitHub\\ECE266_CMOSCircuitLab\\Lab7_ICTesting\\MatLabCode\\ADC_Data\\shiqi\\11-25-Python-Sweep-SEDE-1MHz-50%-1000mV-1k-100k-shiqi\\SIN_1Hz_1000mV---CLK_1MHz_50%.csv\n",
      "frequency @1.2648552168552962\n",
      "Data saved to C:\\Users\\steve\\OneDrive\\Documents\\GitHub\\ECE266_CMOSCircuitLab\\Lab7_ICTesting\\MatLabCode\\ADC_Data\\shiqi\\11-25-Python-Sweep-SEDE-1MHz-50%-1000mV-1k-100k-shiqi\\SIN_1Hz_1000mV---CLK_1MHz_50%.csv\n",
      "frequency @1.599858719606058\n",
      "Data saved to C:\\Users\\steve\\OneDrive\\Documents\\GitHub\\ECE266_CMOSCircuitLab\\Lab7_ICTesting\\MatLabCode\\ADC_Data\\shiqi\\11-25-Python-Sweep-SEDE-1MHz-50%-1000mV-1k-100k-shiqi\\SIN_1Hz_1000mV---CLK_1MHz_50%.csv\n"
     ]
    },
    {
     "ename": "KeyboardInterrupt",
     "evalue": "",
     "output_type": "error",
     "traceback": [
      "\u001b[1;31m---------------------------------------------------------------------------\u001b[0m",
      "\u001b[1;31mKeyboardInterrupt\u001b[0m                         Traceback (most recent call last)",
      "Cell \u001b[1;32mIn[11], line 53\u001b[0m\n\u001b[0;32m     51\u001b[0m     OSC\u001b[38;5;241m.\u001b[39mOscilloscope_RUN(osc)\n\u001b[0;32m     52\u001b[0m     FG\u001b[38;5;241m.\u001b[39moutput_OFF(fg,\u001b[38;5;241m2\u001b[39m)\n\u001b[1;32m---> 53\u001b[0m     \u001b[43msleep\u001b[49m\u001b[43m(\u001b[49m\u001b[38;5;241;43m2\u001b[39;49m\u001b[43m)\u001b[49m\n\u001b[0;32m     56\u001b[0m folder_path \u001b[38;5;241m=\u001b[39m \u001b[38;5;124mr\u001b[39m\u001b[38;5;124m\"\u001b[39m\u001b[38;5;124mC:\u001b[39m\u001b[38;5;124m\\\u001b[39m\u001b[38;5;124mUsers\u001b[39m\u001b[38;5;124m\\\u001b[39m\u001b[38;5;124msteve\u001b[39m\u001b[38;5;124m\\\u001b[39m\u001b[38;5;124mOneDrive\u001b[39m\u001b[38;5;124m\\\u001b[39m\u001b[38;5;124mDocuments\u001b[39m\u001b[38;5;124m\\\u001b[39m\u001b[38;5;124mGitHub\u001b[39m\u001b[38;5;124m\\\u001b[39m\u001b[38;5;124mECE266_CMOSCircuitLab\u001b[39m\u001b[38;5;124m\\\u001b[39m\u001b[38;5;124mLab7_ICTesting\u001b[39m\u001b[38;5;124m\\\u001b[39m\u001b[38;5;124mMatLabCode\u001b[39m\u001b[38;5;124m\\\u001b[39m\u001b[38;5;124mADC_Data\u001b[39m\u001b[38;5;124m\"\u001b[39m  \u001b[38;5;66;03m# Change to your desired path\u001b[39;00m\n\u001b[0;32m     58\u001b[0m \u001b[38;5;66;03m### !!!!!!!!!change folder name as needed!!!!!!!!!!!!!\u001b[39;00m\n\u001b[0;32m     59\u001b[0m \u001b[38;5;66;03m# folder_name = \"11-24-Python-Pull-Data_Sweep-1MHz-20%\"\u001b[39;00m\n",
      "\u001b[1;31mKeyboardInterrupt\u001b[0m: "
     ]
    }
   ],
   "source": [
    "# PS.Output_ON(ps,1)\n",
    "# PS.Output_ON(ps,2)\n",
    "# PS.Output_ON(ps,3)\n",
    "sleep(5)\n",
    "\n",
    "for freq_var in frequencies_SNR:\n",
    "    sin_freq = freq_var\n",
    "    # OSC.Oscilloscope_TimeBase(osc, 1/sin_freq)\n",
    "    # !!! Change as needed\n",
    "    # !!!!!!!!!!!!!!!!!!!!!!!\n",
    "    FG.Sin_setup(fg,1,sin_freq,sin_amp,sin_offset)\n",
    "    print(\"frequency @\" + str(sin_freq))\n",
    "    # Turn on THE CLK\n",
    "    FG.output_ON(fg,2)\n",
    "    sleep(5)\n",
    "    OSC.Oscilloscope_Single(osc)\n",
    "\n",
    "    ################## Save Data from Oscilloscope\n",
    "    [preamble, data] = OSC.Save_waveform(osc,\"BUS1\",)\n",
    "    combined_string = ''.join(data)\n",
    "\n",
    "    # Step 2: Split the string by the commas\n",
    "    rows = combined_string.split(',')\n",
    "    new_data = []\n",
    "    i = 0\n",
    "    for raw in rows[1:]:\n",
    "        new_data.append(int(raw, 16))\n",
    "        i = i+1\n",
    "\n",
    "    ################## Create the foler\n",
    "    folder_path = r\"C:\\Users\\steve\\OneDrive\\Documents\\GitHub\\ECE266_CMOSCircuitLab\\Lab7_ICTesting\\MatLabCode\\ADC_Data\\shiqi\"  # Change to your desired path\n",
    "\n",
    "    ### !!!!!!!!!change folder name as needed!!!!!!!!!!!!!\n",
    "    folder_name = \"11-25-Python-Sweep-SEDE-1MHz-50%-1000mV-1k-100k-shiqi\"\n",
    "    file_path = os.path.join(folder_path, folder_name)\n",
    "    os.makedirs(file_path, exist_ok=True)\n",
    "    ################## Create the file\n",
    "    filename = \"SIN_\"+str(int(sin_freq))+\"Hz_\" + str(int(sin_amp*1000))+\"mV---CLK_\"+ str(int(clk_freq/1e6)) + \"MHz_\" +str(int(clk_duty))+\"%.csv\"\n",
    "    file_path = os.path.join(file_path, filename)\n",
    "\n",
    "\n",
    "\n",
    "    with open(file_path, mode='w', newline='') as file:\n",
    "        writer = csv.writer(file)\n",
    "        # Write each integer as a row\n",
    "        for number in new_data:\n",
    "            writer.writerow([number]) \n",
    "\n",
    "    print(f\"Data saved to {file_path}\")\n",
    "\n",
    "    OSC.Oscilloscope_RUN(osc)\n",
    "    FG.output_OFF(fg,2)\n",
    "    sleep(2)\n",
    "\n",
    "\n",
    "folder_path = r\"C:\\Users\\steve\\OneDrive\\Documents\\GitHub\\ECE266_CMOSCircuitLab\\Lab7_ICTesting\\MatLabCode\\ADC_Data\"  # Change to your desired path\n",
    "\n",
    "### !!!!!!!!!change folder name as needed!!!!!!!!!!!!!\n",
    "# folder_name = \"11-24-Python-Pull-Data_Sweep-1MHz-20%\"\n",
    "file_path = os.path.join(folder_path, folder_name)\n",
    "os.makedirs(file_path, exist_ok=True)\n",
    "################## Create the file\n",
    "filename = \"freq_array.csv\"\n",
    "file_path = os.path.join(file_path, filename)\n",
    "with open(file_path, mode='w', newline='') as file:\n",
    "    writer = csv.writer(file)\n",
    "    # Write each integer as a row\n",
    "    for number in frequencies_SNR:\n",
    "        writer.writerow([number]) \n",
    "\n",
    "print(f\"Data saved to {file_path}\")\n",
    "FG.output_OFF(fg,1)\n",
    "FG.output_OFF(fg,2)\n",
    "PS.Output_OFF(ps,1)\n",
    "PS.Output_OFF(ps,2)\n",
    "PS.Output_OFF(ps,3)\n",
    "osc.close()\n",
    "fg.close()\n",
    "ps.close()"
   ]
  },
  {
   "cell_type": "code",
   "execution_count": 5,
   "metadata": {},
   "outputs": [],
   "source": [
    "FG.output_OFF(fg,1)\n",
    "FG.output_OFF(fg,2)"
   ]
  },
  {
   "cell_type": "code",
   "execution_count": null,
   "metadata": {},
   "outputs": [
    {
     "name": "stdout",
     "output_type": "stream",
     "text": [
      "Data saved to C:\\Users\\steve\\OneDrive\\Documents\\GitHub\\ECE266_CMOSCircuitLab\\Lab7_ICTesting\\MatLabCode\\ADC_Data\\11-24-Python-Pull-Data_Sweep-1MHz-50%\\freq_array.csv\n"
     ]
    }
   ],
   "source": []
  },
  {
   "cell_type": "code",
   "execution_count": 12,
   "metadata": {},
   "outputs": [
    {
     "ename": "InvalidSession",
     "evalue": "Invalid session handle. The resource might be closed.",
     "output_type": "error",
     "traceback": [
      "\u001b[1;31m---------------------------------------------------------------------------\u001b[0m",
      "\u001b[1;31mInvalidSession\u001b[0m                            Traceback (most recent call last)",
      "Cell \u001b[1;32mIn[12], line 10\u001b[0m\n\u001b[0;32m      7\u001b[0m PS\u001b[38;5;241m.\u001b[39mOutput_OFF(ps,\u001b[38;5;241m3\u001b[39m)\n\u001b[0;32m      9\u001b[0m \u001b[38;5;66;03m# Function Generator channel 1 and 2 ON\u001b[39;00m\n\u001b[1;32m---> 10\u001b[0m \u001b[43mFG\u001b[49m\u001b[38;5;241;43m.\u001b[39;49m\u001b[43moutput_OFF\u001b[49m\u001b[43m(\u001b[49m\u001b[43mfg\u001b[49m\u001b[43m,\u001b[49m\u001b[38;5;241;43m1\u001b[39;49m\u001b[43m)\u001b[49m\n\u001b[0;32m     11\u001b[0m FG\u001b[38;5;241m.\u001b[39moutput_OFF(fg,\u001b[38;5;241m2\u001b[39m)\n",
      "File \u001b[1;32mc:\\Users\\steve\\OneDrive\\Documents\\GitHub\\ECE266_CMOSCircuitLab\\Lab7_ICTesting\\InstrumentControlCode\\KS33600A_Control.py:137\u001b[0m, in \u001b[0;36moutput_OFF\u001b[1;34m(inst, channel)\u001b[0m\n\u001b[0;32m    135\u001b[0m \u001b[38;5;28;01melse\u001b[39;00m:\n\u001b[0;32m    136\u001b[0m     command \u001b[38;5;241m=\u001b[39m \u001b[38;5;124m\"\u001b[39m\u001b[38;5;124m:OUTPut\u001b[39m\u001b[38;5;124m\"\u001b[39m \u001b[38;5;241m+\u001b[39m \u001b[38;5;28mstr\u001b[39m(channel) \u001b[38;5;241m+\u001b[39m \u001b[38;5;124m\"\u001b[39m\u001b[38;5;124m 0\u001b[39m\u001b[38;5;124m\"\u001b[39m\n\u001b[1;32m--> 137\u001b[0m     \u001b[43minst\u001b[49m\u001b[38;5;241;43m.\u001b[39;49m\u001b[43mwrite\u001b[49m\u001b[43m(\u001b[49m\u001b[43mcommand\u001b[49m\u001b[43m)\u001b[49m\n",
      "File \u001b[1;32mc:\\Users\\steve\\OneDrive\\Documents\\GitHub\\ECE266_CMOSCircuitLab\\Lab7_ICTesting\\InstrumentControlCode\\.venv\\Lib\\site-packages\\pyvisa\\resources\\messagebased.py:196\u001b[0m, in \u001b[0;36mMessageBasedResource.write\u001b[1;34m(self, message, termination, encoding)\u001b[0m\n\u001b[0;32m    190\u001b[0m         warnings\u001b[38;5;241m.\u001b[39mwarn(\n\u001b[0;32m    191\u001b[0m             \u001b[38;5;124m\"\u001b[39m\u001b[38;5;124mwrite message already ends with \u001b[39m\u001b[38;5;124m\"\u001b[39m \u001b[38;5;124m\"\u001b[39m\u001b[38;5;124mtermination characters\u001b[39m\u001b[38;5;124m\"\u001b[39m,\n\u001b[0;32m    192\u001b[0m             stacklevel\u001b[38;5;241m=\u001b[39m\u001b[38;5;241m2\u001b[39m,\n\u001b[0;32m    193\u001b[0m         )\n\u001b[0;32m    194\u001b[0m     message \u001b[38;5;241m+\u001b[39m\u001b[38;5;241m=\u001b[39m term\n\u001b[1;32m--> 196\u001b[0m count \u001b[38;5;241m=\u001b[39m \u001b[38;5;28;43mself\u001b[39;49m\u001b[38;5;241;43m.\u001b[39;49m\u001b[43mwrite_raw\u001b[49m\u001b[43m(\u001b[49m\u001b[43mmessage\u001b[49m\u001b[38;5;241;43m.\u001b[39;49m\u001b[43mencode\u001b[49m\u001b[43m(\u001b[49m\u001b[43menco\u001b[49m\u001b[43m)\u001b[49m\u001b[43m)\u001b[49m\n\u001b[0;32m    198\u001b[0m \u001b[38;5;28;01mreturn\u001b[39;00m count\n",
      "File \u001b[1;32mc:\\Users\\steve\\OneDrive\\Documents\\GitHub\\ECE266_CMOSCircuitLab\\Lab7_ICTesting\\InstrumentControlCode\\.venv\\Lib\\site-packages\\pyvisa\\resources\\messagebased.py:156\u001b[0m, in \u001b[0;36mMessageBasedResource.write_raw\u001b[1;34m(self, message)\u001b[0m\n\u001b[0;32m    142\u001b[0m \u001b[38;5;28;01mdef\u001b[39;00m \u001b[38;5;21mwrite_raw\u001b[39m(\u001b[38;5;28mself\u001b[39m, message: \u001b[38;5;28mbytes\u001b[39m) \u001b[38;5;241m-\u001b[39m\u001b[38;5;241m>\u001b[39m \u001b[38;5;28mint\u001b[39m:\n\u001b[0;32m    143\u001b[0m \u001b[38;5;250m    \u001b[39m\u001b[38;5;124;03m\"\"\"Write a byte message to the device.\u001b[39;00m\n\u001b[0;32m    144\u001b[0m \n\u001b[0;32m    145\u001b[0m \u001b[38;5;124;03m    Parameters\u001b[39;00m\n\u001b[1;32m   (...)\u001b[0m\n\u001b[0;32m    154\u001b[0m \n\u001b[0;32m    155\u001b[0m \u001b[38;5;124;03m    \"\"\"\u001b[39;00m\n\u001b[1;32m--> 156\u001b[0m     \u001b[38;5;28;01mreturn\u001b[39;00m \u001b[38;5;28mself\u001b[39m\u001b[38;5;241m.\u001b[39mvisalib\u001b[38;5;241m.\u001b[39mwrite(\u001b[38;5;28;43mself\u001b[39;49m\u001b[38;5;241;43m.\u001b[39;49m\u001b[43msession\u001b[49m, message)[\u001b[38;5;241m0\u001b[39m]\n",
      "File \u001b[1;32mc:\\Users\\steve\\OneDrive\\Documents\\GitHub\\ECE266_CMOSCircuitLab\\Lab7_ICTesting\\InstrumentControlCode\\.venv\\Lib\\site-packages\\pyvisa\\resources\\resource.py:170\u001b[0m, in \u001b[0;36mResource.session\u001b[1;34m(self)\u001b[0m\n\u001b[0;32m    161\u001b[0m \u001b[38;5;250m\u001b[39m\u001b[38;5;124;03m\"\"\"Resource session handle.\u001b[39;00m\n\u001b[0;32m    162\u001b[0m \n\u001b[0;32m    163\u001b[0m \u001b[38;5;124;03mRaises\u001b[39;00m\n\u001b[1;32m   (...)\u001b[0m\n\u001b[0;32m    167\u001b[0m \n\u001b[0;32m    168\u001b[0m \u001b[38;5;124;03m\"\"\"\u001b[39;00m\n\u001b[0;32m    169\u001b[0m \u001b[38;5;28;01mif\u001b[39;00m \u001b[38;5;28mself\u001b[39m\u001b[38;5;241m.\u001b[39m_session \u001b[38;5;129;01mis\u001b[39;00m \u001b[38;5;28;01mNone\u001b[39;00m:\n\u001b[1;32m--> 170\u001b[0m     \u001b[38;5;28;01mraise\u001b[39;00m errors\u001b[38;5;241m.\u001b[39mInvalidSession()\n\u001b[0;32m    171\u001b[0m \u001b[38;5;28;01mreturn\u001b[39;00m \u001b[38;5;28mself\u001b[39m\u001b[38;5;241m.\u001b[39m_session\n",
      "\u001b[1;31mInvalidSession\u001b[0m: Invalid session handle. The resource might be closed."
     ]
    }
   ],
   "source": [
    "\"\"\"\n",
    "    6. Turn off All power supply and function generator, and \n",
    "\"\"\"\n",
    "# Power Supply channel 1,2,3 ON\n",
    "PS.Output_OFF(ps,1)\n",
    "PS.Output_OFF(ps,2)\n",
    "PS.Output_OFF(ps,3)\n",
    "\n",
    "# Function Generator channel 1 and 2 ON\n",
    "FG.output_OFF(fg,1)\n",
    "FG.output_OFF(fg,2)"
   ]
  },
  {
   "cell_type": "code",
   "execution_count": null,
   "metadata": {},
   "outputs": [],
   "source": [
    "\"\"\" \n",
    "    7. Shut down the connection \n",
    "\"\"\"\n",
    "ps.close()\n",
    "fg.close()"
   ]
  }
 ],
 "metadata": {
  "kernelspec": {
   "display_name": ".venv",
   "language": "python",
   "name": "python3"
  },
  "language_info": {
   "codemirror_mode": {
    "name": "ipython",
    "version": 3
   },
   "file_extension": ".py",
   "mimetype": "text/x-python",
   "name": "python",
   "nbconvert_exporter": "python",
   "pygments_lexer": "ipython3",
   "version": "3.13.0"
  }
 },
 "nbformat": 4,
 "nbformat_minor": 2
}
