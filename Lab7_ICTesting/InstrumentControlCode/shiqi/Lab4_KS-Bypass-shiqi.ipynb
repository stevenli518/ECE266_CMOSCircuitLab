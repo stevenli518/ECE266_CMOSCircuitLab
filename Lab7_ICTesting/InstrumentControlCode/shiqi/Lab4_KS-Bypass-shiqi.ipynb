{
 "cells": [
  {
   "cell_type": "markdown",
   "metadata": {},
   "source": [
    "Lab4_Instrument_Control  \n",
    "Author: Chengming Li  \n",
    "All rights reserved  "
   ]
  },
  {
   "cell_type": "code",
   "execution_count": 1,
   "metadata": {},
   "outputs": [],
   "source": [
    "import pyvisa\n",
    "import numpy as np\n",
    "from math import log10\n",
    "from pathlib import Path\n",
    "import shutil\n",
    "from time import sleep\n",
    "import matplotlib.pyplot as plt\n",
    "import KS33600A_Control as FG\n",
    "import KSE36311A_Control as PS\n",
    "import KSMSOX3104G as OSC\n"
   ]
  },
  {
   "cell_type": "code",
   "execution_count": 3,
   "metadata": {},
   "outputs": [
    {
     "name": "stdout",
     "output_type": "stream",
     "text": [
      "('USB0::0x0957::0x5707::MY59004729::0::INSTR', 'USB0::0x0957::0x5707::MY59004869::0::INSTR', 'USB0::0x2A8D::0x1202::MY61005967::0::INSTR', 'USB0::0x2A8D::0x1770::MY63420113::0::INSTR', 'USB0::0x2A8D::0x1770::MY63420231::0::INSTR', 'USB0::0x0957::0x5707::MY59004733::0::INSTR', 'USB0::0x2A8D::0x1770::MY63420204::0::INSTR')\n"
     ]
    }
   ],
   "source": [
    "\"\"\" List all instruments\"\"\"\n",
    "rm = pyvisa.ResourceManager()\n",
    "instruments = rm.list_resources()\n",
    "print(instruments)"
   ]
  },
  {
   "cell_type": "markdown",
   "metadata": {},
   "source": [
    "Please follow the following steps for setup  \n",
    "1. Power Supply Setup  \n",
    "2. Function Generator Setup  \n",
    "3. Oscilloscope Setup (Not done yet)  \n",
    "4. Power Supply and Function Generator ON\n",
    "5. !!! Sweep the measurement !!! (Not done yet)\n",
    "6. Turn off Power Supply and Function Generator\n",
    "7. Shut down all the remote control connection"
   ]
  },
  {
   "cell_type": "code",
   "execution_count": 11,
   "metadata": {},
   "outputs": [
    {
     "name": "stdout",
     "output_type": "stream",
     "text": [
      "Keysight Technologies,E36313A,MY61005967,2.1.3-1.0.4-1.14\n",
      "\n"
     ]
    }
   ],
   "source": [
    "\"\"\" \n",
    "    1. Power Supply Control\n",
    "\"\"\"\n",
    "PS_INSTRUMENT_ID = 'USB0::0x2A8D::0x1202::MY61005967::0::INSTR'\n",
    "ps = PS.PowerSupply_Connect(PS_INSTRUMENT_ID)\n",
    "\n",
    "# Set channel 1 to 5 V, 1A\n",
    "PS.Voltage_Setup(ps,1,5)\n",
    "PS.Current_Setup(ps,1,1)\n",
    "\n",
    "# Set channel 2 to 5 V, 1A\n",
    "PS.Voltage_Setup(ps,2,5)\n",
    "PS.Current_Setup(ps,2,1)\n",
    "\n",
    "# Set channel 2 to 5 V, 1A\n",
    "PS.Voltage_Setup(ps,3,2.5)\n",
    "PS.Current_Setup(ps,3,1)"
   ]
  },
  {
   "cell_type": "code",
   "execution_count": 7,
   "metadata": {},
   "outputs": [
    {
     "name": "stdout",
     "output_type": "stream",
     "text": [
      "Agilent Technologies,33622A,MY59004729,A.02.03-3.15-03-64-02\n",
      "\n"
     ]
    }
   ],
   "source": [
    "\"\"\" \n",
    "    2. FunctionGenerator Control \n",
    "\"\"\"\n",
    "start_freq = 1e3\n",
    "start = log10(start_freq )\n",
    "stop_freq = 100e3\n",
    "stop = log10(stop_freq )\n",
    "frequencies_SNR = np.logspace(start, stop, num=50, endpoint=True, base=10.0, dtype=None, axis=0)\n",
    "FG_INSTRUMENT_ID = 'USB0::0x0957::0x5707::MY59004729::0::INSTR'\n",
    "fg = FG.FuncGenConnect(FG_INSTRUMENT_ID)\n",
    "\n",
    "\"\"\"\n",
    "    Intended use channel 1 as SIN\n",
    "    Set channel 1 to SIN, unit Vpp, 50 Ohm, freq, amp, and offset\n",
    "    Intended use channel 2 as INV_SIN\n",
    "    Set channel 1 to SIN, unit Vpp, 50 Ohm, freq, amp, and offset\n",
    "\"\"\"\n",
    "FG.UnitVpp_setup(fg,1)\n",
    "FG.Load__setup(fg,1,1)\n",
    "\n",
    "FG.UnitVpp_setup(fg,2)\n",
    "FG.Load__setup(fg,2,1)\n",
    "\n",
    "\n",
    "freq = 1e3\n",
    "amp = 1\n",
    "offset = 0.5\n",
    "\n",
    "FG.Sin_setup(fg,1,freq,amp,offset)\n",
    "FG.Sin_setup(fg,2,freq,amp,offset)\n",
    "FG.Polarity_invert(fg,2,1)\n",
    "FG.Sync_phase(fg)\n",
    "\n",
    "\n",
    "# for freq_var in frequencies_SNR:\n",
    "#     freq = freq_var\n",
    "#     amp = 1\n",
    "#     offset = 0.5\n",
    "#     FG.Sin_setup(fg,1,freq,amp,offset)\n",
    "#     FG.Sin_setup(fg,2,freq,amp,offset)\n",
    "#     FG.Polarity_invert(fg,2,1)\n",
    "#     FG.Sync_phase(fg)\n",
    "#     print(\"frequency @\" + str(freq))\n",
    "#     sleep(5)\n",
    "\n",
    "# FG.output_OFF(fg,1)\n",
    "# FG.output_OFF(fg,2)\n",
    "fg.close()"
   ]
  },
  {
   "cell_type": "code",
   "execution_count": null,
   "metadata": {},
   "outputs": [
    {
     "name": "stdout",
     "output_type": "stream",
     "text": [
      "KEYSIGHT TECHNOLOGIES,MSO-X 3104G,MY63420113,07.60.2023080430\n",
      "\n",
      "Data saved to C:\\Users\\steve\\OneDrive\\Documents\\GitHub\\ECE266_CMOSCircuitLab\\Lab7_ICTesting\\MatLabCode\\ADC_Data\\11-24-Python-Pull-Data\\SIN_2000Hz_950mV---CLK_1MHz_50%.csv\n"
     ]
    }
   ],
   "source": [
    "\"\"\" \n",
    "    3. Oscilloscope Control \n",
    "\"\"\"\n",
    "import KSMSOX3104G as OSC\n",
    "import csv\n",
    "import os\n",
    "OSC_INSTRUMENT_ID = 'USB0::0x2A8D::0x1770::MY63420113::0::INSTR'\n",
    "osc = OSC.Oscilloscope_Connect(OSC_INSTRUMENT_ID)\n",
    "OSC.Oscilloscope_SetBUS(osc)\n",
    "OSC.Oscilloscope_RUN(osc)\n",
    "\n",
    "\n",
    "OSC.Oscilloscope_Stop(osc)\n",
    "################## Save Data from Oscilloscope\n",
    "[preamble, data] = OSC.Save_waveform(osc,\"BUS1\",)\n",
    "\n",
    "combined_string = ''.join(data)\n",
    "\n",
    "# Step 2: Split the string by the commas\n",
    "rows = combined_string.split(',')\n",
    "new_data = []\n",
    "i = 0\n",
    "for raw in rows[1:]:\n",
    "    new_data.append(int(raw, 16))\n",
    "    i = i+1\n",
    "\n",
    "################## Create the foler\n",
    "folder_path = r\"C:\\Users\\steve\\OneDrive\\Documents\\GitHub\\ECE266_CMOSCircuitLab\\Lab7_ICTesting\\MatLabCode\\ADC_Data\"  # Change to your desired path\n",
    "### change folder name as needed\n",
    "folder_name = \"11-24-Python-Pull-Data\"\n",
    "file_path = os.path.join(folder_path, folder_name)\n",
    "os.makedirs(file_path, exist_ok=True)\n",
    "\n",
    "################## Create the file\n",
    "# Sine Input parameters\n",
    "sin_freq = 2e3\n",
    "sin_amp = 950\n",
    "\n",
    "# CLK Parameters\n",
    "clk_freq = 1e6\n",
    "clk_duty = 50\n",
    "\n",
    "filename = \"SIN_\"+str(int(sin_freq))+\"Hz_\" + str(sin_amp)+\"mV---CLK_\"+ str(int(clk_freq/1e6)) + \"MHz_\" +str(int(clk_duty))+\"%.csv\"\n",
    "file_path = os.path.join(file_path, filename)\n",
    "\n",
    "\n",
    "\n",
    "with open(file_path, mode='w', newline='') as file:\n",
    "    writer = csv.writer(file)\n",
    "    # Write each integer as a row\n",
    "    for number in new_data:\n",
    "        writer.writerow([number]) \n",
    "\n",
    "print(f\"Data saved to {file_path}\")\n",
    "\n",
    "OSC.Oscilloscope_RUN(osc)\n",
    "\n",
    "osc.close()"
   ]
  },
  {
   "cell_type": "code",
   "execution_count": null,
   "metadata": {},
   "outputs": [],
   "source": [
    "\"\"\" \n",
    "    4. Please double check Your Power Supply and Function Generator and to match what you expect to see\n",
    "\"\"\"\n",
    "# Power Supply channel 1,2,3 ON\n",
    "PS.Output_ON(ps,1)\n",
    "PS.Output_ON(ps,2)\n",
    "PS.Output_ON(ps,3)\n",
    "\n",
    "# Function Generator channel 1 and 2 ON\n",
    "FG.output_ON(fg,1)\n",
    "FG.output_ON(fg,2)\n"
   ]
  },
  {
   "cell_type": "code",
   "execution_count": 4,
   "metadata": {},
   "outputs": [
    {
     "name": "stdout",
     "output_type": "stream",
     "text": [
      "Agilent Technologies,33622A,MY59004733,A.02.03-3.15-03-64-02\n",
      "\n",
      "KEYSIGHT TECHNOLOGIES,MSO-X 3104G,MY63420204,07.60.2023080430\n",
      "\n"
     ]
    }
   ],
   "source": [
    "\"\"\" \n",
    "    5. Sweep the Parameters ---- Prep Stage\n",
    "\"\"\"\n",
    "import KSMSOX3104G as OSC\n",
    "import csv\n",
    "import os\n",
    "start_freq = 1e3\n",
    "start = log10(start_freq )\n",
    "stop_freq = 100e3\n",
    "stop = log10(stop_freq )\n",
    "frequencies_SNR = np.logspace(start, stop, num=30, endpoint=True, base=10.0, dtype=None, axis=0)\n",
    "FG_INSTRUMENT_ID = 'USB0::0x0957::0x5707::MY59004733::0::INSTR'\n",
    "fg = FG.FuncGenConnect(FG_INSTRUMENT_ID)\n",
    "\n",
    "OSC_INSTRUMENT_ID = 'USB0::0x2A8D::0x1770::MY63420204::0::INSTR'\n",
    "osc = OSC.Oscilloscope_Connect(OSC_INSTRUMENT_ID)\n",
    "\n",
    "# PS_INSTRUMENT_ID = 'USB0::0x2A8D::0x1202::MY61005967::0::INSTR'\n",
    "# ps = PS.PowerSupply_Connect(PS_INSTRUMENT_ID)\n",
    "\n",
    "\n",
    "\"\"\"\n",
    "    Setup the PowerSupply\n",
    "\"\"\"\n",
    "# PS.Voltage_Setup(ps,1,5)\n",
    "# PS.Current_Setup(ps,1,1)\n",
    "\n",
    "# # Set channel 2 to 5 V, 1A\n",
    "# PS.Voltage_Setup(ps,2,5)\n",
    "# PS.Current_Setup(ps,2,1)\n",
    "\n",
    "# # Set channel 2 to 5 V, 1A\n",
    "# PS.Voltage_Setup(ps,3,2.5)\n",
    "# PS.Current_Setup(ps,3,1)\n",
    "\n",
    "# PS.Output_OFF(ps,1)\n",
    "# PS.Output_OFF(ps,2)\n",
    "# PS.Output_OFF(ps,3)\n",
    "\n",
    "\n",
    "\"\"\"\n",
    "    Setup the Oscilloscope\n",
    "\"\"\"\n",
    "\n",
    "OSC.Oscilloscope_SetBUS(osc)\n",
    "OSC.Oscilloscope_RUN(osc)\n",
    "OSC.Oscilloscope_Trigger(osc)\n",
    "OSC.Oscilloscope_TimeBase(osc, 1/1e3)\n",
    "OSC.Oscilloscope_WGen_Square_OFF(osc)\n",
    "clk_freq = 1e6\n",
    "clk_amp = 2.5\n",
    "clk_offset = 1.25\n",
    "clk_duty = 50\n",
    "OSC.Oscilloscope_WGen_Square(osc,clk_freq,clk_amp,clk_offset,clk_duty)\n",
    "OSC.Oscilloscope_WGen_Square_ON(osc)\n",
    "\n",
    "\n",
    "FG.UnitVpp_setup(fg,1)\n",
    "FG.Load__setup(fg,1,1)\n",
    "\n",
    "FG.UnitVpp_setup(fg,2)\n",
    "FG.Load__setup(fg,2,1)\n",
    "\n",
    "\n",
    "freq = 1e3\n",
    "amp = 1\n",
    "offset = 0.5\n",
    "\n",
    "FG.Sin_setup(fg,1,freq,amp,offset)\n",
    "FG.Sin_setup(fg,2,freq,amp,offset)\n",
    "FG.Polarity_invert(fg,2,1)\n",
    "FG.Sync_phase(fg)\n",
    "\n",
    "FG.output_OFF(fg,1)\n",
    "FG.output_OFF(fg,2)\n",
    "OSC.Oscilloscope_WGen_Square_ON(osc)"
   ]
  },
  {
   "cell_type": "code",
   "execution_count": 5,
   "metadata": {},
   "outputs": [
    {
     "name": "stdout",
     "output_type": "stream",
     "text": [
      "frequency @1000.0\n",
      "Data saved to C:\\Users\\steve\\OneDrive\\Documents\\GitHub\\ECE266_CMOSCircuitLab\\Lab7_ICTesting\\MatLabCode\\ADC_Data\\shiqi-data\\SIN_1000Hz_1000mV---CLK_1MHz_50%.csv\n",
      "frequency @1172.1022975334806\n",
      "Data saved to C:\\Users\\steve\\OneDrive\\Documents\\GitHub\\ECE266_CMOSCircuitLab\\Lab7_ICTesting\\MatLabCode\\ADC_Data\\shiqi-data\\SIN_1172Hz_1000mV---CLK_1MHz_50%.csv\n",
      "frequency @1373.8237958832624\n"
     ]
    },
    {
     "ename": "KeyboardInterrupt",
     "evalue": "",
     "output_type": "error",
     "traceback": [
      "\u001b[1;31m---------------------------------------------------------------------------\u001b[0m",
      "\u001b[1;31mKeyboardInterrupt\u001b[0m                         Traceback (most recent call last)",
      "Cell \u001b[1;32mIn[5], line 24\u001b[0m\n\u001b[0;32m     21\u001b[0m OSC\u001b[38;5;241m.\u001b[39mOscilloscope_Single(osc)\n\u001b[0;32m     23\u001b[0m \u001b[38;5;66;03m################## Save Data from Oscilloscope\u001b[39;00m\n\u001b[1;32m---> 24\u001b[0m [preamble, data] \u001b[38;5;241m=\u001b[39m \u001b[43mOSC\u001b[49m\u001b[38;5;241;43m.\u001b[39;49m\u001b[43mSave_waveform\u001b[49m\u001b[43m(\u001b[49m\u001b[43mosc\u001b[49m\u001b[43m,\u001b[49m\u001b[38;5;124;43m\"\u001b[39;49m\u001b[38;5;124;43mBUS1\u001b[39;49m\u001b[38;5;124;43m\"\u001b[39;49m\u001b[43m,\u001b[49m\u001b[43m)\u001b[49m\n\u001b[0;32m     25\u001b[0m combined_string \u001b[38;5;241m=\u001b[39m \u001b[38;5;124m'\u001b[39m\u001b[38;5;124m'\u001b[39m\u001b[38;5;241m.\u001b[39mjoin(data)\n\u001b[0;32m     27\u001b[0m \u001b[38;5;66;03m# Step 2: Split the string by the commas\u001b[39;00m\n",
      "File \u001b[1;32mc:\\Users\\steve\\OneDrive\\Documents\\GitHub\\ECE266_CMOSCircuitLab\\Lab7_ICTesting\\InstrumentControlCode\\KSMSOX3104G.py:82\u001b[0m, in \u001b[0;36mSave_waveform\u001b[1;34m(inst, source)\u001b[0m\n\u001b[0;32m     80\u001b[0m preamble \u001b[38;5;241m=\u001b[39m inst\u001b[38;5;241m.\u001b[39mquery(command)\n\u001b[0;32m     81\u001b[0m command \u001b[38;5;241m=\u001b[39m \u001b[38;5;124m\"\u001b[39m\u001b[38;5;124m:WAVeform:DATA?\u001b[39m\u001b[38;5;124m\"\u001b[39m\n\u001b[1;32m---> 82\u001b[0m data \u001b[38;5;241m=\u001b[39m \u001b[43minst\u001b[49m\u001b[38;5;241;43m.\u001b[39;49m\u001b[43mquery\u001b[49m\u001b[43m(\u001b[49m\u001b[43mcommand\u001b[49m\u001b[43m)\u001b[49m\n\u001b[0;32m     83\u001b[0m \u001b[38;5;66;03m# with open(filename, \"wb\") as f:\u001b[39;00m\n\u001b[0;32m     84\u001b[0m \u001b[38;5;66;03m#     f.write(data)\u001b[39;00m\n\u001b[0;32m     85\u001b[0m \u001b[38;5;28;01mreturn\u001b[39;00m preamble, data\n",
      "File \u001b[1;32mc:\\Users\\steve\\OneDrive\\Documents\\GitHub\\ECE266_CMOSCircuitLab\\Lab7_ICTesting\\InstrumentControlCode\\.venv\\Lib\\site-packages\\pyvisa\\resources\\messagebased.py:647\u001b[0m, in \u001b[0;36mMessageBasedResource.query\u001b[1;34m(self, message, delay)\u001b[0m\n\u001b[0;32m    644\u001b[0m \u001b[38;5;28;01mif\u001b[39;00m delay \u001b[38;5;241m>\u001b[39m \u001b[38;5;241m0.0\u001b[39m:\n\u001b[0;32m    645\u001b[0m     time\u001b[38;5;241m.\u001b[39msleep(delay)\n\u001b[1;32m--> 647\u001b[0m \u001b[38;5;28;01mreturn\u001b[39;00m \u001b[38;5;28;43mself\u001b[39;49m\u001b[38;5;241;43m.\u001b[39;49m\u001b[43mread\u001b[49m\u001b[43m(\u001b[49m\u001b[43m)\u001b[49m\n",
      "File \u001b[1;32mc:\\Users\\steve\\OneDrive\\Documents\\GitHub\\ECE266_CMOSCircuitLab\\Lab7_ICTesting\\InstrumentControlCode\\.venv\\Lib\\site-packages\\pyvisa\\resources\\messagebased.py:485\u001b[0m, in \u001b[0;36mMessageBasedResource.read\u001b[1;34m(self, termination, encoding)\u001b[0m\n\u001b[0;32m    483\u001b[0m \u001b[38;5;28;01mif\u001b[39;00m termination \u001b[38;5;129;01mis\u001b[39;00m \u001b[38;5;28;01mNone\u001b[39;00m:\n\u001b[0;32m    484\u001b[0m     termination \u001b[38;5;241m=\u001b[39m \u001b[38;5;28mself\u001b[39m\u001b[38;5;241m.\u001b[39m_read_termination\n\u001b[1;32m--> 485\u001b[0m     message \u001b[38;5;241m=\u001b[39m \u001b[38;5;28;43mself\u001b[39;49m\u001b[38;5;241;43m.\u001b[39;49m\u001b[43m_read_raw\u001b[49m\u001b[43m(\u001b[49m\u001b[43m)\u001b[49m\u001b[38;5;241m.\u001b[39mdecode(enco)\n\u001b[0;32m    486\u001b[0m \u001b[38;5;28;01melse\u001b[39;00m:\n\u001b[0;32m    487\u001b[0m     \u001b[38;5;28;01mwith\u001b[39;00m \u001b[38;5;28mself\u001b[39m\u001b[38;5;241m.\u001b[39mread_termination_context(termination):\n",
      "File \u001b[1;32mc:\\Users\\steve\\OneDrive\\Documents\\GitHub\\ECE266_CMOSCircuitLab\\Lab7_ICTesting\\InstrumentControlCode\\.venv\\Lib\\site-packages\\pyvisa\\resources\\messagebased.py:441\u001b[0m, in \u001b[0;36mMessageBasedResource._read_raw\u001b[1;34m(self, size)\u001b[0m\n\u001b[0;32m    434\u001b[0m     \u001b[38;5;28;01mwhile\u001b[39;00m status \u001b[38;5;241m==\u001b[39m loop_status:\n\u001b[0;32m    435\u001b[0m         logger\u001b[38;5;241m.\u001b[39mdebug(\n\u001b[0;32m    436\u001b[0m             \u001b[38;5;124m\"\u001b[39m\u001b[38;5;132;01m%s\u001b[39;00m\u001b[38;5;124m - reading \u001b[39m\u001b[38;5;132;01m%d\u001b[39;00m\u001b[38;5;124m bytes (last status \u001b[39m\u001b[38;5;132;01m%r\u001b[39;00m\u001b[38;5;124m)\u001b[39m\u001b[38;5;124m\"\u001b[39m,\n\u001b[0;32m    437\u001b[0m             \u001b[38;5;28mself\u001b[39m\u001b[38;5;241m.\u001b[39m_resource_name,\n\u001b[0;32m    438\u001b[0m             size,\n\u001b[0;32m    439\u001b[0m             status,\n\u001b[0;32m    440\u001b[0m         )\n\u001b[1;32m--> 441\u001b[0m         chunk, status \u001b[38;5;241m=\u001b[39m \u001b[38;5;28;43mself\u001b[39;49m\u001b[38;5;241;43m.\u001b[39;49m\u001b[43mvisalib\u001b[49m\u001b[38;5;241;43m.\u001b[39;49m\u001b[43mread\u001b[49m\u001b[43m(\u001b[49m\u001b[38;5;28;43mself\u001b[39;49m\u001b[38;5;241;43m.\u001b[39;49m\u001b[43msession\u001b[49m\u001b[43m,\u001b[49m\u001b[43m \u001b[49m\u001b[43msize\u001b[49m\u001b[43m)\u001b[49m\n\u001b[0;32m    442\u001b[0m         ret\u001b[38;5;241m.\u001b[39mextend(chunk)\n\u001b[0;32m    443\u001b[0m \u001b[38;5;28;01mexcept\u001b[39;00m errors\u001b[38;5;241m.\u001b[39mVisaIOError \u001b[38;5;28;01mas\u001b[39;00m e:\n",
      "File \u001b[1;32mc:\\Users\\steve\\OneDrive\\Documents\\GitHub\\ECE266_CMOSCircuitLab\\Lab7_ICTesting\\InstrumentControlCode\\.venv\\Lib\\site-packages\\pyvisa\\ctwrapper\\functions.py:2336\u001b[0m, in \u001b[0;36mread\u001b[1;34m(library, session, count)\u001b[0m\n\u001b[0;32m   2334\u001b[0m buffer \u001b[38;5;241m=\u001b[39m create_string_buffer(count)\n\u001b[0;32m   2335\u001b[0m return_count \u001b[38;5;241m=\u001b[39m ViUInt32()\n\u001b[1;32m-> 2336\u001b[0m ret \u001b[38;5;241m=\u001b[39m \u001b[43mlibrary\u001b[49m\u001b[38;5;241;43m.\u001b[39;49m\u001b[43mviRead\u001b[49m\u001b[43m(\u001b[49m\u001b[43msession\u001b[49m\u001b[43m,\u001b[49m\u001b[43m \u001b[49m\u001b[43mbuffer\u001b[49m\u001b[43m,\u001b[49m\u001b[43m \u001b[49m\u001b[43mcount\u001b[49m\u001b[43m,\u001b[49m\u001b[43m \u001b[49m\u001b[43mbyref\u001b[49m\u001b[43m(\u001b[49m\u001b[43mreturn_count\u001b[49m\u001b[43m)\u001b[49m\u001b[43m)\u001b[49m\n\u001b[0;32m   2337\u001b[0m \u001b[38;5;28;01mreturn\u001b[39;00m buffer\u001b[38;5;241m.\u001b[39mraw[: return_count\u001b[38;5;241m.\u001b[39mvalue], ret\n",
      "File \u001b[1;32mc:\\Users\\steve\\OneDrive\\Documents\\GitHub\\ECE266_CMOSCircuitLab\\Lab7_ICTesting\\InstrumentControlCode\\.venv\\Lib\\site-packages\\pyvisa\\ctwrapper\\highlevel.py:184\u001b[0m, in \u001b[0;36mIVIVisaLibrary._return_handler\u001b[1;34m(self, ret_value, func, arguments)\u001b[0m\n\u001b[0;32m    181\u001b[0m     \u001b[38;5;28;01mfor\u001b[39;00m method_name \u001b[38;5;129;01min\u001b[39;00m \u001b[38;5;28mgetattr\u001b[39m(\u001b[38;5;28mself\u001b[39m\u001b[38;5;241m.\u001b[39mlib, \u001b[38;5;124m\"\u001b[39m\u001b[38;5;124m_functions\u001b[39m\u001b[38;5;124m\"\u001b[39m, []):\n\u001b[0;32m    182\u001b[0m         \u001b[38;5;28msetattr\u001b[39m(\u001b[38;5;28mself\u001b[39m, method_name, \u001b[38;5;28mgetattr\u001b[39m(\u001b[38;5;28mself\u001b[39m\u001b[38;5;241m.\u001b[39mlib, method_name))\n\u001b[1;32m--> 184\u001b[0m \u001b[38;5;28;01mdef\u001b[39;00m \u001b[38;5;21m_return_handler\u001b[39m(\u001b[38;5;28mself\u001b[39m, ret_value: \u001b[38;5;28mint\u001b[39m, func: Callable, arguments: \u001b[38;5;28mtuple\u001b[39m) \u001b[38;5;241m-\u001b[39m\u001b[38;5;241m>\u001b[39m Any:\n\u001b[0;32m    185\u001b[0m \u001b[38;5;250m    \u001b[39m\u001b[38;5;124;03m\"\"\"Check return values for errors and warnings.\"\"\"\u001b[39;00m\n\u001b[0;32m    186\u001b[0m     logger\u001b[38;5;241m.\u001b[39mdebug(\n\u001b[0;32m    187\u001b[0m         \u001b[38;5;124m\"\u001b[39m\u001b[38;5;132;01m%s\u001b[39;00m\u001b[38;5;132;01m%s\u001b[39;00m\u001b[38;5;124m -> \u001b[39m\u001b[38;5;132;01m%r\u001b[39;00m\u001b[38;5;124m\"\u001b[39m,\n\u001b[0;32m    188\u001b[0m         func\u001b[38;5;241m.\u001b[39m\u001b[38;5;18m__name__\u001b[39m,\n\u001b[1;32m   (...)\u001b[0m\n\u001b[0;32m    191\u001b[0m         extra\u001b[38;5;241m=\u001b[39m\u001b[38;5;28mself\u001b[39m\u001b[38;5;241m.\u001b[39m_logging_extra,\n\u001b[0;32m    192\u001b[0m     )\n",
      "\u001b[1;31mKeyboardInterrupt\u001b[0m: "
     ]
    }
   ],
   "source": [
    "# PS.Output_ON(ps,1)\n",
    "# PS.Output_ON(ps,2)\n",
    "# PS.Output_ON(ps,3)\n",
    "# sleep(5)\n",
    "\n",
    "for freq_var in frequencies_SNR:\n",
    "    sin_freq = freq_var\n",
    "    # OSC.Oscilloscope_TimeBase(osc, 1/sin_freq)\n",
    "    # !!! Change as needed\n",
    "    sin_amp = 1\n",
    "    offset = 0.5\n",
    "    # !!!!!!!!!!!!!!!!!!!!!!!\n",
    "    FG.Sin_setup(fg,1,sin_freq,sin_amp,offset)\n",
    "    FG.Sin_setup(fg,2,sin_freq,sin_amp,offset)\n",
    "    FG.Polarity_invert(fg,2,1)\n",
    "    FG.Sync_phase(fg)\n",
    "    print(\"frequency @\" + str(sin_freq))\n",
    "    # Turn on THE CLK\n",
    "    OSC.Oscilloscope_WGen_Square_ON(osc)\n",
    "    sleep(5)\n",
    "    OSC.Oscilloscope_Single(osc)\n",
    "\n",
    "    ################## Save Data from Oscilloscope\n",
    "    [preamble, data] = OSC.Save_waveform(osc,\"BUS1\",)\n",
    "    combined_string = ''.join(data)\n",
    "\n",
    "    # Step 2: Split the string by the commas\n",
    "    rows = combined_string.split(',')\n",
    "    new_data = []\n",
    "    i = 0\n",
    "    for raw in rows[1:]:\n",
    "        new_data.append(int(raw, 16))\n",
    "        i = i+1\n",
    "\n",
    "    ################## Create the foler\n",
    "    folder_path = r\"C:\\Users\\steve\\OneDrive\\Documents\\GitHub\\ECE266_CMOSCircuitLab\\Lab7_ICTesting\\MatLabCode\\ADC_Data\"  # Change to your desired path\n",
    "\n",
    "    ### !!!!!!!!!change folder name as needed!!!!!!!!!!!!!\n",
    "    folder_name = \"shiqi-data\"\n",
    "    file_path = os.path.join(folder_path, folder_name)\n",
    "    os.makedirs(file_path, exist_ok=True)\n",
    "    ################## Create the file\n",
    "    filename = \"SIN_\"+str(int(sin_freq))+\"Hz_\" + str(int(sin_amp*1000))+\"mV---CLK_\"+ str(int(clk_freq/1e6)) + \"MHz_\" +str(int(clk_duty))+\"%.csv\"\n",
    "    file_path = os.path.join(file_path, filename)\n",
    "\n",
    "\n",
    "\n",
    "    with open(file_path, mode='w', newline='') as file:\n",
    "        writer = csv.writer(file)\n",
    "        # Write each integer as a row\n",
    "        for number in new_data:\n",
    "            writer.writerow([number]) \n",
    "\n",
    "    print(f\"Data saved to {file_path}\")\n",
    "\n",
    "    OSC.Oscilloscope_RUN(osc)\n",
    "    OSC.Oscilloscope_WGen_Square_OFF(osc)\n",
    "    sleep(2)\n",
    "\n",
    "\n",
    "folder_path = r\"C:\\Users\\steve\\OneDrive\\Documents\\GitHub\\ECE266_CMOSCircuitLab\\Lab7_ICTesting\\MatLabCode\\ADC_Data\"  # Change to your desired path\n",
    "\n",
    "### !!!!!!!!!change folder name as needed!!!!!!!!!!!!!\n",
    "# folder_name = \"11-24-Python-Pull-Data_Sweep-1MHz-20%\"\n",
    "file_path = os.path.join(folder_path, folder_name)\n",
    "os.makedirs(file_path, exist_ok=True)\n",
    "################## Create the file\n",
    "filename = \"freq_array.csv\"\n",
    "file_path = os.path.join(file_path, filename)\n",
    "with open(file_path, mode='w', newline='') as file:\n",
    "    writer = csv.writer(file)\n",
    "    # Write each integer as a row\n",
    "    for number in frequencies_SNR:\n",
    "        writer.writerow([number]) \n",
    "\n",
    "print(f\"Data saved to {file_path}\")\n",
    "FG.output_OFF(fg,1)\n",
    "FG.output_OFF(fg,2)\n",
    "PS.Output_OFF(ps,1)\n",
    "PS.Output_OFF(ps,2)\n",
    "PS.Output_OFF(ps,3)\n",
    "osc.close()\n",
    "fg.close()\n",
    "ps.close()"
   ]
  },
  {
   "cell_type": "code",
   "execution_count": 1,
   "metadata": {},
   "outputs": [
    {
     "ename": "NameError",
     "evalue": "name 'FG' is not defined",
     "output_type": "error",
     "traceback": [
      "\u001b[1;31m---------------------------------------------------------------------------\u001b[0m",
      "\u001b[1;31mNameError\u001b[0m                                 Traceback (most recent call last)",
      "Cell \u001b[1;32mIn[1], line 1\u001b[0m\n\u001b[1;32m----> 1\u001b[0m \u001b[43mFG\u001b[49m\u001b[38;5;241m.\u001b[39moutput_OFF(fg,\u001b[38;5;241m1\u001b[39m)\n\u001b[0;32m      2\u001b[0m FG\u001b[38;5;241m.\u001b[39moutput_OFF(fg,\u001b[38;5;241m2\u001b[39m)\n",
      "\u001b[1;31mNameError\u001b[0m: name 'FG' is not defined"
     ]
    }
   ],
   "source": [
    "FG.output_OFF(fg,1)\n",
    "FG.output_OFF(fg,2)"
   ]
  },
  {
   "cell_type": "code",
   "execution_count": null,
   "metadata": {},
   "outputs": [
    {
     "name": "stdout",
     "output_type": "stream",
     "text": [
      "Data saved to C:\\Users\\steve\\OneDrive\\Documents\\GitHub\\ECE266_CMOSCircuitLab\\Lab7_ICTesting\\MatLabCode\\ADC_Data\\11-24-Python-Pull-Data_Sweep-1MHz-50%\\freq_array.csv\n"
     ]
    }
   ],
   "source": []
  },
  {
   "cell_type": "code",
   "execution_count": 12,
   "metadata": {},
   "outputs": [
    {
     "ename": "InvalidSession",
     "evalue": "Invalid session handle. The resource might be closed.",
     "output_type": "error",
     "traceback": [
      "\u001b[1;31m---------------------------------------------------------------------------\u001b[0m",
      "\u001b[1;31mInvalidSession\u001b[0m                            Traceback (most recent call last)",
      "Cell \u001b[1;32mIn[12], line 10\u001b[0m\n\u001b[0;32m      7\u001b[0m PS\u001b[38;5;241m.\u001b[39mOutput_OFF(ps,\u001b[38;5;241m3\u001b[39m)\n\u001b[0;32m      9\u001b[0m \u001b[38;5;66;03m# Function Generator channel 1 and 2 ON\u001b[39;00m\n\u001b[1;32m---> 10\u001b[0m \u001b[43mFG\u001b[49m\u001b[38;5;241;43m.\u001b[39;49m\u001b[43moutput_OFF\u001b[49m\u001b[43m(\u001b[49m\u001b[43mfg\u001b[49m\u001b[43m,\u001b[49m\u001b[38;5;241;43m1\u001b[39;49m\u001b[43m)\u001b[49m\n\u001b[0;32m     11\u001b[0m FG\u001b[38;5;241m.\u001b[39moutput_OFF(fg,\u001b[38;5;241m2\u001b[39m)\n",
      "File \u001b[1;32mc:\\Users\\steve\\OneDrive\\Documents\\GitHub\\ECE266_CMOSCircuitLab\\Lab7_ICTesting\\InstrumentControlCode\\KS33600A_Control.py:137\u001b[0m, in \u001b[0;36moutput_OFF\u001b[1;34m(inst, channel)\u001b[0m\n\u001b[0;32m    135\u001b[0m \u001b[38;5;28;01melse\u001b[39;00m:\n\u001b[0;32m    136\u001b[0m     command \u001b[38;5;241m=\u001b[39m \u001b[38;5;124m\"\u001b[39m\u001b[38;5;124m:OUTPut\u001b[39m\u001b[38;5;124m\"\u001b[39m \u001b[38;5;241m+\u001b[39m \u001b[38;5;28mstr\u001b[39m(channel) \u001b[38;5;241m+\u001b[39m \u001b[38;5;124m\"\u001b[39m\u001b[38;5;124m 0\u001b[39m\u001b[38;5;124m\"\u001b[39m\n\u001b[1;32m--> 137\u001b[0m     \u001b[43minst\u001b[49m\u001b[38;5;241;43m.\u001b[39;49m\u001b[43mwrite\u001b[49m\u001b[43m(\u001b[49m\u001b[43mcommand\u001b[49m\u001b[43m)\u001b[49m\n",
      "File \u001b[1;32mc:\\Users\\steve\\OneDrive\\Documents\\GitHub\\ECE266_CMOSCircuitLab\\Lab7_ICTesting\\InstrumentControlCode\\.venv\\Lib\\site-packages\\pyvisa\\resources\\messagebased.py:196\u001b[0m, in \u001b[0;36mMessageBasedResource.write\u001b[1;34m(self, message, termination, encoding)\u001b[0m\n\u001b[0;32m    190\u001b[0m         warnings\u001b[38;5;241m.\u001b[39mwarn(\n\u001b[0;32m    191\u001b[0m             \u001b[38;5;124m\"\u001b[39m\u001b[38;5;124mwrite message already ends with \u001b[39m\u001b[38;5;124m\"\u001b[39m \u001b[38;5;124m\"\u001b[39m\u001b[38;5;124mtermination characters\u001b[39m\u001b[38;5;124m\"\u001b[39m,\n\u001b[0;32m    192\u001b[0m             stacklevel\u001b[38;5;241m=\u001b[39m\u001b[38;5;241m2\u001b[39m,\n\u001b[0;32m    193\u001b[0m         )\n\u001b[0;32m    194\u001b[0m     message \u001b[38;5;241m+\u001b[39m\u001b[38;5;241m=\u001b[39m term\n\u001b[1;32m--> 196\u001b[0m count \u001b[38;5;241m=\u001b[39m \u001b[38;5;28;43mself\u001b[39;49m\u001b[38;5;241;43m.\u001b[39;49m\u001b[43mwrite_raw\u001b[49m\u001b[43m(\u001b[49m\u001b[43mmessage\u001b[49m\u001b[38;5;241;43m.\u001b[39;49m\u001b[43mencode\u001b[49m\u001b[43m(\u001b[49m\u001b[43menco\u001b[49m\u001b[43m)\u001b[49m\u001b[43m)\u001b[49m\n\u001b[0;32m    198\u001b[0m \u001b[38;5;28;01mreturn\u001b[39;00m count\n",
      "File \u001b[1;32mc:\\Users\\steve\\OneDrive\\Documents\\GitHub\\ECE266_CMOSCircuitLab\\Lab7_ICTesting\\InstrumentControlCode\\.venv\\Lib\\site-packages\\pyvisa\\resources\\messagebased.py:156\u001b[0m, in \u001b[0;36mMessageBasedResource.write_raw\u001b[1;34m(self, message)\u001b[0m\n\u001b[0;32m    142\u001b[0m \u001b[38;5;28;01mdef\u001b[39;00m \u001b[38;5;21mwrite_raw\u001b[39m(\u001b[38;5;28mself\u001b[39m, message: \u001b[38;5;28mbytes\u001b[39m) \u001b[38;5;241m-\u001b[39m\u001b[38;5;241m>\u001b[39m \u001b[38;5;28mint\u001b[39m:\n\u001b[0;32m    143\u001b[0m \u001b[38;5;250m    \u001b[39m\u001b[38;5;124;03m\"\"\"Write a byte message to the device.\u001b[39;00m\n\u001b[0;32m    144\u001b[0m \n\u001b[0;32m    145\u001b[0m \u001b[38;5;124;03m    Parameters\u001b[39;00m\n\u001b[1;32m   (...)\u001b[0m\n\u001b[0;32m    154\u001b[0m \n\u001b[0;32m    155\u001b[0m \u001b[38;5;124;03m    \"\"\"\u001b[39;00m\n\u001b[1;32m--> 156\u001b[0m     \u001b[38;5;28;01mreturn\u001b[39;00m \u001b[38;5;28mself\u001b[39m\u001b[38;5;241m.\u001b[39mvisalib\u001b[38;5;241m.\u001b[39mwrite(\u001b[38;5;28;43mself\u001b[39;49m\u001b[38;5;241;43m.\u001b[39;49m\u001b[43msession\u001b[49m, message)[\u001b[38;5;241m0\u001b[39m]\n",
      "File \u001b[1;32mc:\\Users\\steve\\OneDrive\\Documents\\GitHub\\ECE266_CMOSCircuitLab\\Lab7_ICTesting\\InstrumentControlCode\\.venv\\Lib\\site-packages\\pyvisa\\resources\\resource.py:170\u001b[0m, in \u001b[0;36mResource.session\u001b[1;34m(self)\u001b[0m\n\u001b[0;32m    161\u001b[0m \u001b[38;5;250m\u001b[39m\u001b[38;5;124;03m\"\"\"Resource session handle.\u001b[39;00m\n\u001b[0;32m    162\u001b[0m \n\u001b[0;32m    163\u001b[0m \u001b[38;5;124;03mRaises\u001b[39;00m\n\u001b[1;32m   (...)\u001b[0m\n\u001b[0;32m    167\u001b[0m \n\u001b[0;32m    168\u001b[0m \u001b[38;5;124;03m\"\"\"\u001b[39;00m\n\u001b[0;32m    169\u001b[0m \u001b[38;5;28;01mif\u001b[39;00m \u001b[38;5;28mself\u001b[39m\u001b[38;5;241m.\u001b[39m_session \u001b[38;5;129;01mis\u001b[39;00m \u001b[38;5;28;01mNone\u001b[39;00m:\n\u001b[1;32m--> 170\u001b[0m     \u001b[38;5;28;01mraise\u001b[39;00m errors\u001b[38;5;241m.\u001b[39mInvalidSession()\n\u001b[0;32m    171\u001b[0m \u001b[38;5;28;01mreturn\u001b[39;00m \u001b[38;5;28mself\u001b[39m\u001b[38;5;241m.\u001b[39m_session\n",
      "\u001b[1;31mInvalidSession\u001b[0m: Invalid session handle. The resource might be closed."
     ]
    }
   ],
   "source": [
    "\"\"\"\n",
    "    6. Turn off All power supply and function generator, and \n",
    "\"\"\"\n",
    "# Power Supply channel 1,2,3 ON\n",
    "PS.Output_OFF(ps,1)\n",
    "PS.Output_OFF(ps,2)\n",
    "PS.Output_OFF(ps,3)\n",
    "\n",
    "# Function Generator channel 1 and 2 ON\n",
    "FG.output_OFF(fg,1)\n",
    "FG.output_OFF(fg,2)"
   ]
  },
  {
   "cell_type": "code",
   "execution_count": null,
   "metadata": {},
   "outputs": [],
   "source": [
    "\"\"\" \n",
    "    7. Shut down the connection \n",
    "\"\"\"\n",
    "ps.close()\n",
    "fg.close()"
   ]
  }
 ],
 "metadata": {
  "kernelspec": {
   "display_name": ".venv",
   "language": "python",
   "name": "python3"
  },
  "language_info": {
   "codemirror_mode": {
    "name": "ipython",
    "version": 3
   },
   "file_extension": ".py",
   "mimetype": "text/x-python",
   "name": "python",
   "nbconvert_exporter": "python",
   "pygments_lexer": "ipython3",
   "version": "3.13.0"
  }
 },
 "nbformat": 4,
 "nbformat_minor": 2
}
